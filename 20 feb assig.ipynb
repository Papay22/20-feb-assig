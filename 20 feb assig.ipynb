{
 "cells": [
  {
   "cell_type": "code",
   "execution_count": null,
   "id": "42593474-626a-44cc-923c-eb5ae9494b3a",
   "metadata": {},
   "outputs": [],
   "source": [
    "GET: The GET method is used to request data from a specified resource. It is one of the most common HTTP methods and is used to retrieve data from a server. When a user visits a web page, their browser sends a GET request to the server hosting the website. The server then responds with the requested data, which is typically in the form of an HTML document.\n",
    "\n",
    "\n",
    "POST: The POST method is used to send data to a server for processing or storage. It is often used when submitting a form on a website. When a user submits a form, their browser sends a POST request to the server hosting the website. The server then processes the data and responds with a result or confirmation."
   ]
  },
  {
   "cell_type": "code",
   "execution_count": null,
   "id": "19092e5a-3ebf-45c6-9810-8959239aa616",
   "metadata": {},
   "outputs": [],
   "source": [
    "equest in Flask is used to access the incoming request data. It provides access to the incoming request data, including the files, form data, arguments, and headers. It also allows you to access the request's cookies and other metadata. Request is a global object that can be used in any Flask view or template.\n",
    "\n"
   ]
  },
  {
   "cell_type": "code",
   "execution_count": null,
   "id": "cdaa8093-916c-4030-ab00-1bfe535cb690",
   "metadata": {},
   "outputs": [],
   "source": [
    "Redirect() is used in Flask to redirect the user to a different URL or route. This is useful for creating dynamic web applications that respond to user input. It can also be used to redirect a user to a specific page after they have completed a task or submitted a form."
   ]
  },
  {
   "cell_type": "code",
   "execution_count": null,
   "id": "a8c6e963-4c9e-4892-8a4b-52492cafa79c",
   "metadata": {},
   "outputs": [],
   "source": [
    "Templates in Flask are HTML files that contain placeholders for data. The render_template() function is used to render these templates with the given data. This function takes the template name and a variable list of template arguments and returns the rendered template string."
   ]
  },
  {
   "cell_type": "code",
   "execution_count": null,
   "id": "6e5afc47-544e-471d-9586-b8b439eaf898",
   "metadata": {},
   "outputs": [],
   "source": [
    "API:\n",
    "\n",
    "\n",
    "import flask\n",
    "\n",
    "from flask import request, jsonify\n",
    "\n",
    "\n",
    "app = flask.Flask(name)\n",
    "\n",
    "app.config\"DEBUG\" = True\n",
    "\n",
    "\n",
    "Create some test data for our catalog in the form of a list of dictionaries.\n",
    "\n",
    "\n",
    "books =\n",
    "\n",
    "{'id': 0,\n",
    "\n",
    "'title': 'A Fire Upon the Deep',\n",
    "\n",
    "'author': 'Vernor Vinge',\n",
    "\n",
    "'first_sentence': 'The coldsleep itself was dreamless.',\n",
    "\n",
    "'year_published': '1992'},\n",
    "\n",
    "{'id': 1,\n",
    "\n",
    "'title': 'The Ones Who Walk Away From Omelas',\n",
    "\n",
    "'author': 'Ursula K. Le Guin',\n",
    "\n",
    "'first_sentence': 'With a clamor of bells that set the swallows soaring, the Festival of Summer came to the city Omelas, bright-towered by the sea.',\n",
    "\n",
    "'published': '1973'},\n",
    "\n",
    "{'id': 2,\n",
    "\n",
    "'title': 'Dhalgren',\n",
    "\n",
    "'author': 'Samuel R. Delany',\n",
    "\n",
    "'first_sentence': 'to wound the autumnal city.',\n",
    "\n",
    "'published': '1975'}\n",
    "\n",
    "\n",
    "@app.route('/', methods='GET')\n",
    "\n",
    "def home():\n",
    "\n",
    "return \"<h1>Book API</h1><p>This is an API for books.</p>\"\n",
    "\n",
    "\n",
    "@app.route('/api/v1/resources/books/all', methods='GET')\n",
    "\n",
    "def api_all():\n",
    "\n",
    "return jsonify(books)\n",
    "\n",
    "\n",
    "@app.route('/api/v1/resources/books', methods='GET')\n",
    "\n",
    "def api_id():\n",
    "\n",
    "Check if an ID was provided as part of the URL.\n",
    "If ID is provided, assign it to a variable.\n",
    "If no ID is provided, display an error in the browser.\n",
    "if 'id' in request.args:\n",
    "\n",
    "id = int(request.args'id')\n",
    "\n",
    "else:\n",
    "\n",
    "return \"Error: No id field provided. Please specify an id.\"\n",
    "\n"
   ]
  }
 ],
 "metadata": {
  "kernelspec": {
   "display_name": "Python 3 (ipykernel)",
   "language": "python",
   "name": "python3"
  },
  "language_info": {
   "codemirror_mode": {
    "name": "ipython",
    "version": 3
   },
   "file_extension": ".py",
   "mimetype": "text/x-python",
   "name": "python",
   "nbconvert_exporter": "python",
   "pygments_lexer": "ipython3",
   "version": "3.10.8"
  }
 },
 "nbformat": 4,
 "nbformat_minor": 5
}
